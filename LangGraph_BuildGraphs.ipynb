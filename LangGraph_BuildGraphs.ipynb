{
  "nbformat": 4,
  "nbformat_minor": 0,
  "metadata": {
    "colab": {
      "provenance": []
    },
    "kernelspec": {
      "name": "python3",
      "display_name": "Python 3"
    },
    "language_info": {
      "name": "python"
    }
  },
  "cells": [
    {
      "cell_type": "code",
      "execution_count": null,
      "metadata": {
        "colab": {
          "base_uri": "https://localhost:8080/"
        },
        "id": "s9hmC1wttakQ",
        "outputId": "9ca0038d-03e5-4ad4-db6e-2b858521dcbf"
      },
      "outputs": [
        {
          "output_type": "stream",
          "name": "stdout",
          "text": [
            "Requirement already satisfied: langgraph in /usr/local/lib/python3.11/dist-packages (0.2.72)\n",
            "Requirement already satisfied: langgraph-sdk in /usr/local/lib/python3.11/dist-packages (0.1.51)\n",
            "Requirement already satisfied: langgraph-checkpoint-sqlite in /usr/local/lib/python3.11/dist-packages (2.0.4)\n",
            "Requirement already satisfied: langsmith in /usr/local/lib/python3.11/dist-packages (0.3.6)\n",
            "Requirement already satisfied: langchain-community in /usr/local/lib/python3.11/dist-packages (0.3.17)\n",
            "Requirement already satisfied: langchain-core in /usr/local/lib/python3.11/dist-packages (0.3.35)\n",
            "Requirement already satisfied: langchain-openai in /usr/local/lib/python3.11/dist-packages (0.3.5)\n",
            "Requirement already satisfied: tavily-python in /usr/local/lib/python3.11/dist-packages (0.5.1)\n",
            "Requirement already satisfied: wikipedia in /usr/local/lib/python3.11/dist-packages (1.4.0)\n",
            "Requirement already satisfied: langgraph-checkpoint<3.0.0,>=2.0.10 in /usr/local/lib/python3.11/dist-packages (from langgraph) (2.0.13)\n",
            "Requirement already satisfied: httpx>=0.25.2 in /usr/local/lib/python3.11/dist-packages (from langgraph-sdk) (0.28.1)\n",
            "Requirement already satisfied: orjson>=3.10.1 in /usr/local/lib/python3.11/dist-packages (from langgraph-sdk) (3.10.15)\n",
            "Requirement already satisfied: aiosqlite<0.21.0,>=0.20.0 in /usr/local/lib/python3.11/dist-packages (from langgraph-checkpoint-sqlite) (0.20.0)\n",
            "Requirement already satisfied: pydantic<3,>=1 in /usr/local/lib/python3.11/dist-packages (from langsmith) (2.10.6)\n",
            "Requirement already satisfied: requests<3,>=2 in /usr/local/lib/python3.11/dist-packages (from langsmith) (2.32.3)\n",
            "Requirement already satisfied: requests-toolbelt<2.0.0,>=1.0.0 in /usr/local/lib/python3.11/dist-packages (from langsmith) (1.0.0)\n",
            "Requirement already satisfied: zstandard<0.24.0,>=0.23.0 in /usr/local/lib/python3.11/dist-packages (from langsmith) (0.23.0)\n",
            "Requirement already satisfied: langchain<1.0.0,>=0.3.18 in /usr/local/lib/python3.11/dist-packages (from langchain-community) (0.3.18)\n",
            "Requirement already satisfied: SQLAlchemy<3,>=1.4 in /usr/local/lib/python3.11/dist-packages (from langchain-community) (2.0.37)\n",
            "Requirement already satisfied: PyYAML>=5.3 in /usr/local/lib/python3.11/dist-packages (from langchain-community) (6.0.2)\n",
            "Requirement already satisfied: aiohttp<4.0.0,>=3.8.3 in /usr/local/lib/python3.11/dist-packages (from langchain-community) (3.11.12)\n",
            "Requirement already satisfied: tenacity!=8.4.0,<10,>=8.1.0 in /usr/local/lib/python3.11/dist-packages (from langchain-community) (9.0.0)\n",
            "Requirement already satisfied: dataclasses-json<0.7,>=0.5.7 in /usr/local/lib/python3.11/dist-packages (from langchain-community) (0.6.7)\n",
            "Requirement already satisfied: pydantic-settings<3.0.0,>=2.4.0 in /usr/local/lib/python3.11/dist-packages (from langchain-community) (2.7.1)\n",
            "Requirement already satisfied: httpx-sse<1.0.0,>=0.4.0 in /usr/local/lib/python3.11/dist-packages (from langchain-community) (0.4.0)\n",
            "Requirement already satisfied: numpy<2,>=1.26.4 in /usr/local/lib/python3.11/dist-packages (from langchain-community) (1.26.4)\n",
            "Requirement already satisfied: jsonpatch<2.0,>=1.33 in /usr/local/lib/python3.11/dist-packages (from langchain-core) (1.33)\n",
            "Requirement already satisfied: packaging<25,>=23.2 in /usr/local/lib/python3.11/dist-packages (from langchain-core) (24.2)\n",
            "Requirement already satisfied: typing-extensions>=4.7 in /usr/local/lib/python3.11/dist-packages (from langchain-core) (4.12.2)\n",
            "Requirement already satisfied: openai<2.0.0,>=1.58.1 in /usr/local/lib/python3.11/dist-packages (from langchain-openai) (1.62.0)\n",
            "Requirement already satisfied: tiktoken<1,>=0.7 in /usr/local/lib/python3.11/dist-packages (from langchain-openai) (0.8.0)\n",
            "Requirement already satisfied: beautifulsoup4 in /usr/local/lib/python3.11/dist-packages (from wikipedia) (4.13.3)\n",
            "Requirement already satisfied: aiohappyeyeballs>=2.3.0 in /usr/local/lib/python3.11/dist-packages (from aiohttp<4.0.0,>=3.8.3->langchain-community) (2.4.4)\n",
            "Requirement already satisfied: aiosignal>=1.1.2 in /usr/local/lib/python3.11/dist-packages (from aiohttp<4.0.0,>=3.8.3->langchain-community) (1.3.2)\n",
            "Requirement already satisfied: attrs>=17.3.0 in /usr/local/lib/python3.11/dist-packages (from aiohttp<4.0.0,>=3.8.3->langchain-community) (25.1.0)\n",
            "Requirement already satisfied: frozenlist>=1.1.1 in /usr/local/lib/python3.11/dist-packages (from aiohttp<4.0.0,>=3.8.3->langchain-community) (1.5.0)\n",
            "Requirement already satisfied: multidict<7.0,>=4.5 in /usr/local/lib/python3.11/dist-packages (from aiohttp<4.0.0,>=3.8.3->langchain-community) (6.1.0)\n",
            "Requirement already satisfied: propcache>=0.2.0 in /usr/local/lib/python3.11/dist-packages (from aiohttp<4.0.0,>=3.8.3->langchain-community) (0.2.1)\n",
            "Requirement already satisfied: yarl<2.0,>=1.17.0 in /usr/local/lib/python3.11/dist-packages (from aiohttp<4.0.0,>=3.8.3->langchain-community) (1.18.3)\n",
            "Requirement already satisfied: marshmallow<4.0.0,>=3.18.0 in /usr/local/lib/python3.11/dist-packages (from dataclasses-json<0.7,>=0.5.7->langchain-community) (3.26.1)\n",
            "Requirement already satisfied: typing-inspect<1,>=0.4.0 in /usr/local/lib/python3.11/dist-packages (from dataclasses-json<0.7,>=0.5.7->langchain-community) (0.9.0)\n",
            "Requirement already satisfied: anyio in /usr/local/lib/python3.11/dist-packages (from httpx>=0.25.2->langgraph-sdk) (3.7.1)\n",
            "Requirement already satisfied: certifi in /usr/local/lib/python3.11/dist-packages (from httpx>=0.25.2->langgraph-sdk) (2025.1.31)\n",
            "Requirement already satisfied: httpcore==1.* in /usr/local/lib/python3.11/dist-packages (from httpx>=0.25.2->langgraph-sdk) (1.0.7)\n",
            "Requirement already satisfied: idna in /usr/local/lib/python3.11/dist-packages (from httpx>=0.25.2->langgraph-sdk) (3.10)\n",
            "Requirement already satisfied: h11<0.15,>=0.13 in /usr/local/lib/python3.11/dist-packages (from httpcore==1.*->httpx>=0.25.2->langgraph-sdk) (0.14.0)\n",
            "Requirement already satisfied: jsonpointer>=1.9 in /usr/local/lib/python3.11/dist-packages (from jsonpatch<2.0,>=1.33->langchain-core) (3.0.0)\n",
            "Requirement already satisfied: langchain-text-splitters<1.0.0,>=0.3.6 in /usr/local/lib/python3.11/dist-packages (from langchain<1.0.0,>=0.3.18->langchain-community) (0.3.6)\n",
            "Requirement already satisfied: msgpack<2.0.0,>=1.1.0 in /usr/local/lib/python3.11/dist-packages (from langgraph-checkpoint<3.0.0,>=2.0.10->langgraph) (1.1.0)\n",
            "Requirement already satisfied: distro<2,>=1.7.0 in /usr/local/lib/python3.11/dist-packages (from openai<2.0.0,>=1.58.1->langchain-openai) (1.9.0)\n",
            "Requirement already satisfied: jiter<1,>=0.4.0 in /usr/local/lib/python3.11/dist-packages (from openai<2.0.0,>=1.58.1->langchain-openai) (0.8.2)\n",
            "Requirement already satisfied: sniffio in /usr/local/lib/python3.11/dist-packages (from openai<2.0.0,>=1.58.1->langchain-openai) (1.3.1)\n",
            "Requirement already satisfied: tqdm>4 in /usr/local/lib/python3.11/dist-packages (from openai<2.0.0,>=1.58.1->langchain-openai) (4.67.1)\n",
            "Requirement already satisfied: annotated-types>=0.6.0 in /usr/local/lib/python3.11/dist-packages (from pydantic<3,>=1->langsmith) (0.7.0)\n",
            "Requirement already satisfied: pydantic-core==2.27.2 in /usr/local/lib/python3.11/dist-packages (from pydantic<3,>=1->langsmith) (2.27.2)\n",
            "Requirement already satisfied: python-dotenv>=0.21.0 in /usr/local/lib/python3.11/dist-packages (from pydantic-settings<3.0.0,>=2.4.0->langchain-community) (1.0.1)\n",
            "Requirement already satisfied: charset-normalizer<4,>=2 in /usr/local/lib/python3.11/dist-packages (from requests<3,>=2->langsmith) (3.4.1)\n",
            "Requirement already satisfied: urllib3<3,>=1.21.1 in /usr/local/lib/python3.11/dist-packages (from requests<3,>=2->langsmith) (2.3.0)\n",
            "Requirement already satisfied: greenlet!=0.4.17 in /usr/local/lib/python3.11/dist-packages (from SQLAlchemy<3,>=1.4->langchain-community) (3.1.1)\n",
            "Requirement already satisfied: regex>=2022.1.18 in /usr/local/lib/python3.11/dist-packages (from tiktoken<1,>=0.7->langchain-openai) (2024.11.6)\n",
            "Requirement already satisfied: soupsieve>1.2 in /usr/local/lib/python3.11/dist-packages (from beautifulsoup4->wikipedia) (2.6)\n",
            "Requirement already satisfied: mypy-extensions>=0.3.0 in /usr/local/lib/python3.11/dist-packages (from typing-inspect<1,>=0.4.0->dataclasses-json<0.7,>=0.5.7->langchain-community) (1.0.0)\n"
          ]
        }
      ],
      "source": [
        "!pip install langgraph langgraph-sdk langgraph-checkpoint-sqlite langsmith langchain-community langchain-core langchain-openai tavily-python wikipedia\n"
      ]
    },
    {
      "cell_type": "code",
      "source": [
        "import os\n",
        "import operator\n",
        "from datetime import datetime\n",
        "from typing import Any, Annotated, List\n",
        "from typing_extensions import TypedDict\n",
        "from pydantic import BaseModel, Field"
      ],
      "metadata": {
        "id": "Ylq60WjOtoUc"
      },
      "execution_count": null,
      "outputs": []
    },
    {
      "cell_type": "code",
      "source": [
        "from google.colab import userdata\n",
        "from IPython.display import Image, display, Markdown\n",
        "from langchain_core.tools import tool\n",
        "from langchain_core.documents import Document\n",
        "from langchain_core.messages import HumanMessage, SystemMessage, AIMessage, ToolMessage\n",
        "from langchain_community.document_loaders import WikipediaLoader\n",
        "from langchain_community.tools.tavily_search import TavilySearchResults\n",
        "from langchain_core.utils.function_calling import convert_to_openai_function\n",
        "from langchain.output_parsers.openai_functions import JsonOutputFunctionsParser"
      ],
      "metadata": {
        "id": "32rrn2Syt5NL"
      },
      "execution_count": null,
      "outputs": []
    },
    {
      "cell_type": "code",
      "source": [
        "from langgraph.graph import MessagesState\n",
        "from langgraph.graph import StateGraph, START, END\n",
        "from langgraph.prebuilt import ToolNode, tools_condition\n",
        "from langgraph.checkpoint.memory import MemorySaver\n",
        "from langchain_openai import ChatOpenAI\n",
        "from langchain_community.retrievers import TavilySearchAPIRetriever"
      ],
      "metadata": {
        "id": "6UTgzxZTt-zV"
      },
      "execution_count": null,
      "outputs": []
    },
    {
      "cell_type": "code",
      "source": [
        "openai_api_key = \"OPENAI_API_KEY\"\n",
        "os.environ[\"OPENAI_API_KEY\"] = \"OPENAI_API_KEY\"\n",
        "os.environ[\"TAVILY_API_KEY\"] = userdata.get('TAVILY_API_KEY')"
      ],
      "metadata": {
        "id": "Xr8DUPbIuFsd"
      },
      "execution_count": null,
      "outputs": []
    },
    {
      "cell_type": "code",
      "source": [
        "#LangSmith\n",
        "os.environ[\"LANGCHAIN_API_KEY\"] = userdata.get('LANGCHAIN_API_KEY')\n",
        "os.environ[\"LANGCHAIN_TRACING_V2\"] = \"true\"\n",
        "os.environ[\"LANGCHAIN_PROJECT\"] = \"Subgraphs\""
      ],
      "metadata": {
        "id": "ArJcBgVrugyv"
      },
      "execution_count": null,
      "outputs": []
    },
    {
      "cell_type": "code",
      "source": [
        "@tool\n",
        "def web_search(query:str) -> dict:\n",
        "  \"\"\"Retrieve docs from web search\"\"\"\n",
        "\n",
        "  # Search\n",
        "  print(datetime.now(), \"- Start Web search\")\n",
        "  tavily_search = TavilySearchResults(max_results = 3)\n",
        "  search_docs = tavily_search.invoke(query)\n",
        "\n",
        "  # Format\n",
        "  formatted_search_docs = \"\\n---\\n\".join(\n",
        "      [f'\\n{doc[\"content\"]}\\n ' for doc in search_docs]\n",
        "  )\n",
        "  print(datetime.now(), \"- End Web search\")\n",
        "  return {\"context\": [formatted_search_docs]}"
      ],
      "metadata": {
        "id": "uu1artgUvNxk"
      },
      "execution_count": null,
      "outputs": []
    },
    {
      "cell_type": "code",
      "source": [
        "\n",
        "@tool\n",
        "def wiki_search(query: str) -> dict:\n",
        "  \"\"\"Retrieve documents from wikipedia\"\"\"\n",
        "\n",
        "  # Search\n",
        "  print(datetime.now(), \"- Start Wiki search\")\n",
        "  search_docs = WikipediaLoader(query=query, load_max_docs=2).load()\n",
        "\n",
        "  # Format\n",
        "  formatted_search_docs = \"\\n---\\n\".join(\n",
        "      [f'\\n{doc.page_content}\\n' for doc in search_docs]\n",
        "  )\n",
        "  print(datetime.now(), \"- End Wikipedia search\")\n",
        "  return {\"context\": [formatted_search_docs]}"
      ],
      "metadata": {
        "id": "aoiMHRcUwQQt"
      },
      "execution_count": null,
      "outputs": []
    },
    {
      "cell_type": "code",
      "source": [
        "wiki_search.invoke(\"attention\")\n"
      ],
      "metadata": {
        "colab": {
          "base_uri": "https://localhost:8080/"
        },
        "id": "rahdhCm4wTpK",
        "outputId": "18c6137a-44be-430e-e2f5-561f6f793470"
      },
      "execution_count": null,
      "outputs": [
        {
          "output_type": "stream",
          "name": "stdout",
          "text": [
            "2025-02-13 10:13:22.672792 - Start Wiki search\n",
            "2025-02-13 10:13:24.417038 - End Wikipedia search\n"
          ]
        },
        {
          "output_type": "execute_result",
          "data": {
            "text/plain": [
              "{'context': ['\\nAttention or focus, is the concentration of awareness on some phenomenon to the exclusion of other stimuli. It is the selective concentration on discrete information, either subjectively or objectively. William James (1890) wrote that \"Attention is the taking possession by the mind, in clear and vivid form, of one out of what seem several simultaneously possible objects or trains of thought. Focalization, concentration, of consciousness are of its essence.\" Attention has also been described as the allocation of limited cognitive processing resources. Attention is manifested by an attentional bottleneck, in terms of the amount of data the brain can process each second; for example, in human vision, less than 1% of the visual input data stream of 1MByte/sec can enter the bottleneck, leading to inattentional blindness.\\nAttention remains a crucial area of investigation within education, psychology, neuroscience, cognitive neuroscience, and neuropsychology. Areas of active investigation involve determining the source of the sensory cues and signals that generate attention, the effects of these sensory cues and signals on the tuning properties of sensory neurons, and the relationship between attention and other behavioral and cognitive processes, which may include working memory and psychological vigilance. A relatively new body of research, which expands upon earlier research within psychopathology, is investigating the diagnostic symptoms associated with traumatic brain injury and its effects on attention. Attention also varies across cultures.\\nThe relationships between attention and consciousness are complex enough that they have warranted philosophical exploration. Such exploration is both ancient and continually relevant, as it can have effects in fields ranging from mental health and the study of disorders of consciousness to artificial intelligence and its domains of research.\\n\\n\\n== Contemporary definition and research ==\\nPrior to the founding of psychology as a scientific discipline, attention was studied in the field of philosophy. Thus, many of the discoveries in the field of attention were made by philosophers. Psychologist John B. Watson calls Juan Luis Vives the father of modern psychology because, in his book De Anima et Vita (The Soul and Life), he was the first to recognize the importance of empirical investigation.  In his work on memory, Vives found that the more closely one attends to stimuli, the better they will be retained.\\nBy the 1990s, psychologists began using positron emission tomography (PET) and later functional magnetic resonance imaging (fMRI) to image the brain while monitoring tasks involving attention. Considering this expensive equipment was generally only available in hospitals, psychologists sought cooperation with neurologists. Psychologist Michael Posner (then already renowned for his influential work on visual selective attention) and neurologist Marcus Raichle pioneered brain imaging studies of selective attention. Their results soon sparked interest from the neuroscience community, which until then had been focused on monkey brains. With the development of these technological innovations, neuroscientists became interested in this type of research that combines sophisticated experimental paradigms from cognitive psychology with these new brain imaging techniques. Although the older technique of electroencephalography (EEG) had long been used to study the brain activity underlying selective attention by cognitive psychophysiologists, the ability of the newer techniques to measure precisely localized activity inside the brain generated renewed interest by a wider community of researchers. A growing body of such neuroimaging research has identified a frontoparietal attention network which appears to be responsible for control of attention.\\nA definition of a psychological construct forms a research approach to its study. In scientific works, attention often coincides and substitutes the notion of i\\n\\n---\\n\\nAttention deficit hyperactivity disorder (ADHD) is a neurodevelopmental disorder characterized by symptoms of inattention, hyperactivity, impulsivity and emotional dysregulation that are excessive and pervasive, impairing in multiple contexts, and developmentally-inappropriate. ADHD symptoms arise from executive dysfunction.\\nImpairments resulting from deficits in self-regulation such as time management, inhibition, task initiation, and sustained attention can include poor professional performance, relationship difficulties, and numerous health risks, collectively predisposing to a diminished quality of life and a reduction in life expectancy. It is associated with other mental disorders as well as non-psychiatric disorders, which can cause additional impairment. The disorder costs society hundreds of billions of US dollars each year, worldwide.\\nWhile people with ADHD often struggle to initiate work and persist on tasks with delayed consequences, this may not be evident in contexts they find intrinsically interesting and immediately rewarding, a symptom colloquially known as hyperfocus. This mental state is often hard to disengage from and is related to risks such as for internet addiction.\\nADHD can be difficult to tell apart from other conditions. It represents the extreme lower end of the continuous dimensional trait (bell curve) of executive functioning and self-regulation, which is supported by twin, brain imaging and molecular genetic studies.\\nThe precise causes of ADHD are unknown in most individual cases. Meta-analyses have shown that the disorder is primarily genetic with a heritability rate of 70-80%, where risk factors are highly accumulative. The environmental risks are not related to social or familial factors; they exert their effects very early in life, in the prenatal or early postnatal period. However, in rare cases, ADHD can be caused by a single event including traumatic brain injury, exposure to biohazards during pregnancy, or a major genetic mutation. As it is a neurodevelopmental disorder, there is no biologically distinct adult-onset ADHD except for when ADHD occurs after traumatic brain injury.\\n\\n\\n== Signs and symptoms ==\\nInattention, hyperactivity (restlessness in adults), disruptive behaviour, and impulsivity are common in ADHD. Academic difficulties are frequent, as are problems with relationships. The signs and symptoms can be difficult to define, as it is hard to draw a line at where normal levels of inattention, hyperactivity, and impulsivity end and significant levels requiring interventions begin.\\nAccording to the fifth edition of the Diagnostic and Statistical Manual of Mental Disorders (DSM-5) and its text revision (DSM-5-TR), symptoms must be present for six months or more to a degree that is much greater than others of the same age. This requires at least six symptoms of either inattention or hyperactivity/impulsivity for those under 17 and at least five symptoms for those 17 years or older. The symptoms must be present in at least two settings (e.g., social, school, work, or home), and must directly interfere with or reduce quality of functioning. Additionally, several symptoms must have been present before age 12. The DSM-5 \\'s required age of onset of symptoms is 12 years. However, research indicates the age of onset should not be interpreted as a prerequisite for diagnosis given contextual exceptions.\\n\\n\\n=== Presentations ===\\nADHD is divided into three primary presentations:\\n\\npredominantly inattentive (ADHD-PI or ADHD-I)\\npredominantly hyperactive-impulsive (ADHD-PH or ADHD-HI)\\ncombined presentation (ADHD-C).\\nThe table \"Symptoms\" lists the symptoms for ADHD-I and ADHD-HI from two major classification systems. Symptoms which can be better explained by another psychiatric or medical condition which an individual has are not considered to be a symptom of ADHD for that person. In DSM-5, subtypes were discarded and reclassified as presentations of the disorder that change over time.\\n\\nGirls and wome\\n']}"
            ]
          },
          "metadata": {},
          "execution_count": 42
        }
      ]
    },
    {
      "cell_type": "markdown",
      "source": [
        "# Graphs"
      ],
      "metadata": {
        "id": "soJK_ym-wfzx"
      }
    },
    {
      "cell_type": "code",
      "source": [
        "class Discussion(TypedDict):\n",
        "  topic:  Annotated[list[str], operator.add]\n",
        "  keywords:  Annotated[list[list], operator.add]\n",
        "  expert:  Annotated[list, operator.add]\n",
        "  search_expert: Annotated[list, operator.add]\n",
        "  begginer:  Annotated[list, operator.add]\n",
        "  search_begginer: Annotated[list, operator.add]\n",
        "  discussion:  Annotated[list, operator.add]"
      ],
      "metadata": {
        "id": "8uyp4wX3wWDx"
      },
      "execution_count": null,
      "outputs": []
    },
    {
      "cell_type": "markdown",
      "source": [
        "# Build Sub-graphs"
      ],
      "metadata": {
        "id": "ZU4MQFZlwp-r"
      }
    },
    {
      "cell_type": "code",
      "source": [
        "# Expert subgraph\n",
        "prompt_research_exp =\"\"\"You are an expert researcher. Use the search engine to find information on the Internet about the topic and related keywords that can help complement your research.\n",
        "You can make multiple calls whenever you want (together or in sequence).\n",
        "Your goal is to provide all the relevant information that you found, remember that you are an expert and be accurate.\"\"\"\n",
        "\n",
        "prompr_generator_exp = \"\"\"You are an expert in creating articles, create one with the following topic and context in less than 600 words\"\"\"\n",
        "# funtions\n",
        "def generate_expert(state: Discussion):\n",
        "  topic = state['topic']\n",
        "  messages = [SystemMessage(content=prompr_generator_exp)] + [HumanMessage(content= \"Topic: \" + topic[0])] + state['search_expert']\n",
        "  message = model_exp.invoke(messages)\n",
        "  return {'expert': [message.content]}\n",
        "\n",
        "def call_expert(state: Discussion):\n",
        "  topic = state['topic']\n",
        "  if state[\"search_expert\"]:\n",
        "    messages = [SystemMessage(content=prompt_research_exp)] + [HumanMessage(content=\"Topic: \" + topic[0])] + [AIMessage(content=\"Keywords: \" + \", \".join(state[\"keywords\"][0]) )] + state['search_expert']\n",
        "  else:\n",
        "    messages = [SystemMessage(content=prompt_research_exp)] + [HumanMessage(content=\"Topic: \" + topic[0])] + [AIMessage(content=\"Keywords: \" + \", \".join(state[\"keywords\"][0]) )]\n",
        "  message = model_exp.invoke(messages)\n",
        "  return {'search_expert': [message]}\n",
        "\n",
        "def take_action_exp(state: Discussion):\n",
        "  tool_calls = state['search_expert'][-1].tool_calls\n",
        "  results = []\n",
        "  for t in tool_calls:\n",
        "    print(f\"Calling: {t}\")\n",
        "    result = tools_exp[t['name']].invoke(t['args'])\n",
        "    results.append(ToolMessage(tool_call_id=t['id'], name=t['name'], content=str(result)))\n",
        "  return {'search_expert': results}\n",
        "\n",
        "def need_to_search_exp(state: Discussion):\n",
        "  result = state['search_expert'][-1]\n",
        "  return len(result.tool_calls) > 0\n",
        "# tools\n",
        "tool_exp = [web_search]\n",
        "tools_exp = {t.name: t for t in tool_exp}\n",
        "model_exp = gpt_expert.bind_tools(tool_exp)\n",
        "\n",
        "# Add nodes\n",
        "builder_exp = StateGraph(Discussion)\n",
        "\n",
        "builder_exp.add_node(\"Internet\", take_action_exp)\n",
        "builder_exp.add_node(\"Searcher\", call_expert)\n",
        "builder_exp.add_node(\"Generator\", generate_expert)\n",
        "\n",
        "# Flow\n",
        "builder_exp.add_edge(START, \"Searcher\")\n",
        "builder_exp.add_edge(\"Internet\", \"Searcher\")\n",
        "builder_exp.add_edge(\"Generator\", END)\n",
        "builder_exp.add_conditional_edges(\"Searcher\", need_to_search_exp, {True:\"Internet\", False: \"Generator\" })\n",
        "\n",
        "graph_exp = builder_exp.compile()\n",
        "display(Image(graph_exp.get_graph().draw_mermaid_png()))"
      ],
      "metadata": {
        "colab": {
          "base_uri": "https://localhost:8080/",
          "height": 374
        },
        "id": "JD7NbqFmwnK3",
        "outputId": "06459784-ef09-4b32-a253-3790311237e7"
      },
      "execution_count": null,
      "outputs": [
        {
          "output_type": "display_data",
          "data": {
            "image/png": "[encoded data removed]",
            "text/plain": [
              "<IPython.core.display.Image object>"
            ]
          },
          "metadata": {}
        }
      ]
    },
    {
      "cell_type": "markdown",
      "source": [
        "# Attention in Human Cognition: An Overview\n",
        "Attention is a fundamental cognitive process that enables individuals to focus on specific stimuli while filtering out irrelevant information. This selective focus is crucial for navigating our complex environments, allowing us to prioritize tasks and manage cognitive resources effectively.\n",
        "\n",
        "\n",
        "**Definition and Significance**\n",
        "William James, a pioneering psychologist, described attention as \"the taking possession by the mind, in clear and vivid form, of one out of what may seem several simultaneously possible objects or trains of thought.\" This definition highlights the essence of attention: it involves a conscious choice to engage with certain stimuli while withdrawing from others. This selective nature of attention is vital for effective functioning in daily life, influencing everything from learning to decision-making.\n",
        "\n",
        "\n",
        "**Conclusion**\n",
        "Attention is a vital cognitive function that shapes our perception and interaction with the world. By understanding its mechanisms and types, we can develop better strategies for enhancing focus and managing distractions, ultimately improving our cognitive performance in various aspects of life."
      ],
      "metadata": {
        "id": "mqFkW74pyrEK"
      }
    },
    {
      "cell_type": "code",
      "source": [
        "# Begginer subgraph\n",
        "prompt_research_beg =\"\"\"You are a novice researcher with a desire to learn more; use the search engine to find information on the topic.\n",
        "You can make multiple calls whenever you want (together or in sequence).\n",
        "Your goal is to provide all the relevant information you have found about topic.\"\"\"\n",
        "\n",
        "prompr_generator_beg = \"\"\"You are and novice researcher, create an speech with the following topic and context, ask questions like if you want to learn more about and invite others to learn, use less than 600 words.\"\"\"\n",
        "# funtions\n",
        "def generate_beg(state: Discussion):\n",
        "  topic = state['topic']\n",
        "  messages = [SystemMessage(content=prompr_generator_beg)] + [HumanMessage(content=\"Topic: \" + topic[0])] + state['search_begginer']\n",
        "  message = gpt_beg.invoke(messages)\n",
        "  return {'begginer': [message.content]}\n",
        "\n",
        "def call_beg(state: Discussion):\n",
        "  topic = state['topic']\n",
        "  if state[\"search_begginer\"]:\n",
        "    messages = [SystemMessage(content=prompt_research_beg)] + [HumanMessage(content=\"Topic: \" + topic[0])] + state['search_begginer']\n",
        "  else:\n",
        "    messages = [SystemMessage(content=prompt_research_beg)] + [HumanMessage(content=\"Topic: \" + topic[0])]\n",
        "  message = model_beg.invoke(messages)\n",
        "  return {'search_begginer': [message]}\n",
        "\n",
        "def take_action_beg(state: Discussion):\n",
        "  tool_calls = state['search_begginer'][-1].tool_calls\n",
        "  results = []\n",
        "  for t in tool_calls:\n",
        "    print(f\"Calling: {t}\")\n",
        "    result = tools_beg[t['name']].invoke(t['args'])\n",
        "    results.append(ToolMessage(tool_call_id=t['id'], name=t['name'], content=str(result)))\n",
        "  return {'search_begginer': results}\n",
        "\n",
        "def need_to_search_beg(state: Discussion):\n",
        "  result = state['search_begginer'][-1]\n",
        "  return len(result.tool_calls) > 0\n",
        "\n",
        "# tools\n",
        "tool_beg = [wiki_search]\n",
        "tools_beg = {t.name: t for t in tool_beg}\n",
        "model_beg = gpt_beg.bind_tools(tool_beg)\n",
        "\n",
        "# Add nodes\n",
        "builder_beg = StateGraph(Discussion)\n",
        "\n",
        "builder_beg.add_node(\"Wikipedia\", take_action_beg)\n",
        "builder_beg.add_node(\"Searcher\", call_beg)\n",
        "builder_beg.add_node(\"Generator\", generate_beg)\n",
        "\n",
        "# Flow\n",
        "builder_beg.add_edge(START, \"Searcher\")\n",
        "builder_beg.add_edge(\"Wikipedia\", \"Searcher\")\n",
        "builder_beg.add_edge(\"Generator\", END)\n",
        "builder_beg.add_conditional_edges(\"Searcher\", need_to_search_beg, {True:\"Wikipedia\", False: \"Generator\" })\n",
        "\n",
        "graph_beg = builder_beg.compile()\n",
        "\n",
        "display(Image(graph_beg.get_graph().draw_mermaid_png()))"
      ],
      "metadata": {
        "colab": {
          "base_uri": "https://localhost:8080/",
          "height": 374
        },
        "id": "WpHP46QEw-mr",
        "outputId": "c4c42087-0c8c-4a04-dbd3-db978caa78da"
      },
      "execution_count": null,
      "outputs": [
        {
          "output_type": "display_data",
          "data": {
            "image/png": "[encoded data removed]",
            "text/plain": [
              "<IPython.core.display.Image object>"
            ]
          },
          "metadata": {}
        }
      ]
    },
    {
      "cell_type": "markdown",
      "source": [
        "# Attention in Human Cognition\n",
        "\n",
        "\n",
        "**Introduction** Good [morning/afternoon/evening], everyone! Today, I want to explore a fascinating topic that affects us all: attention in human cognition. Attention is not just about what we focus on; it shapes our experiences, learning, and interactions with the world around us.\n",
        "\n",
        "\n",
        "\n",
        "\n",
        "\n",
        "**What is Attention**? At its core, attention is the process of concentrating awareness on specific stimuli while filtering out others. William James, a pioneering psychologist, described it as the \"taking possession by the mind\" of one out of several possible objects or thoughts. This selective focus is crucial because our brains can only process a limited amount of information at any given time.\n",
        "\n",
        "\n",
        "\n",
        "\n",
        "\n",
        "**Why is Attention Important?** Attention plays a vital role in our daily lives. It helps us prioritize information, manage tasks, and navigate complex environments. For instance, when you're in a crowded room, your ability to focus on a single conversation while ignoring background noise is a testament to your attentional skills.\n",
        "\n",
        "\n",
        "\n",
        "\n",
        "\n",
        "**Mechanisms of Attention** Let’s delve into some key concepts related to attention:\n",
        "\n",
        "\n",
        "\n",
        "\n",
        "\n",
        "**Selective Attention**: This is our ability to focus on a particular object or task while ignoring distractions. Think about how you can read a book in a busy café; that’s selective attention at work!\n",
        "\n",
        "\n",
        "\n",
        "\n",
        "\n",
        "**Inattentional Blindness:** Have you ever missed something obvious in your surroundings because you were focused on something else? This is known as inattentional blindness, where we fail to notice unexpected stimuli when our attention is directed elsewhere.\n",
        "\n",
        "\n",
        "\n",
        "\n",
        "\n",
        "**Cognitive Resources:** Our brains have limited cognitive resources, meaning we can only process a small fraction of the information we encounter. This limitation necessitates prioritizing certain stimuli over others.\n",
        "\n",
        "\n",
        "\n",
        "\n",
        "\n",
        "**Research and Applications** Attention is a significant area of study across various fields, including psychology, neuroscience, and education. Researchers are investigating how sensory cues influence attention and how attention interacts with other cognitive processes like memory.\n",
        "\n",
        "\n",
        "Modern technologies, such as functional magnetic resonance imaging (fMRI), have allowed scientists to explore the neural networks involved in attention. This research has profound implications for understanding learning, mental health, and even artificial intelligence.\n",
        "\n",
        "\n",
        "\n",
        "\n",
        "**Cultural Variations** Interestingly, attention can vary across cultures. Different cultural contexts can influence how individuals allocate their attention and process information. This raises intriguing questions about how our environments shape our cognitive processes.\n",
        "\n",
        "\n",
        "\n",
        "\n",
        "**Historical** Context The study of attention has evolved significantly over time. Early philosophers, like Plato and Descartes, speculated about the nature of the mind. In the 20th century, cognitive psychology emerged, moving away from behaviorism, which largely ignored mental processes. This shift has led to a deeper understanding of attention and its complexities.\n",
        "\n",
        "\n",
        "\n",
        "\n",
        "**Conclusion** In conclusion, attention is a fundamental aspect of human cognition that influences how we experience and interact with the world. By understanding its mechanisms and implications, we can enhance educational practices, improve mental health interventions, and even inform"
      ],
      "metadata": {
        "id": "6J_DWhkb0tu0"
      }
    },
    {
      "cell_type": "markdown",
      "source": [
        "# Main graph"
      ],
      "metadata": {
        "id": "JDqCBzGb2Mq6"
      }
    },
    {
      "cell_type": "code",
      "source": [
        "# Main graph\n",
        "prompt_diss = \"\"\" Your task is to create a discussion paper between the two following articles, one from an expert and the other from a beginner researcher.\n",
        "Try to make it interesting with questions-answers and the opinion of the two people, be accurate and use less than 1100 words. \"\"\"\n",
        "\n",
        "# Functions\n",
        "def search_for_keywords(state: Discussion):\n",
        "  topic = state['topic']\n",
        "  messages = [SystemMessage(content=\"Give me all the keywords related to the following topic\")] + [HumanMessage(content=\"Topic: \" + topic[0])]\n",
        "  message = keywords_chain.invoke(messages)\n",
        "  print(message[\"Category\"])\n",
        "  return {'keywords': [message[\"Category\"]]}\n",
        "\n",
        "def generate_disscusion(state: Discussion):\n",
        "  print(\"Generating...\")\n",
        "  messages = [SystemMessage(content=prompt_diss)] + [HumanMessage(content=\"Expert researcher: \" + state[\"expert\"][0])] + [HumanMessage(content=\"Begginer researcher: \" + state[\"begginer\"][0])]\n",
        "  message = gpt_creator.invoke(messages)\n",
        "  return {'discussion': [message.content]}\n",
        "# Add nodes\n",
        "\n",
        "main_builder = StateGraph(Discussion)\n",
        "\n",
        "main_builder.add_node(\"Expert\", graph_exp)\n",
        "main_builder.add_node(\"Begginer\",  graph_beg)\n",
        "main_builder.add_node(\"Keywords\", search_for_keywords)\n",
        "main_builder.add_node(\"Creator\", generate_disscusion)\n",
        "\n",
        "# Flow\n",
        "main_builder.add_edge(START, \"Keywords\")\n",
        "main_builder.add_edge(\"Keywords\", \"Expert\")\n",
        "main_builder.add_edge(\"Keywords\", \"Begginer\")\n",
        "main_builder.add_edge(\"Expert\", \"Creator\")\n",
        "main_builder.add_edge(\"Begginer\", \"Creator\")\n",
        "main_builder.add_edge(\"Creator\", END)\n",
        "\n",
        "graph_main = main_builder.compile()\n",
        "\n",
        "# Setting xray to 1 will show the internal structure of the nested graph\n",
        "display(Image(graph_main.get_graph(xray=1).draw_mermaid_png()))"
      ],
      "metadata": {
        "colab": {
          "base_uri": "https://localhost:8080/",
          "height": 721
        },
        "id": "Z21Kz0jB0ius",
        "outputId": "a42f0c00-e636-4654-bce6-b465e759a28f"
      },
      "execution_count": null,
      "outputs": [
        {
          "output_type": "display_data",
          "data": {
            "image/png": "[encoded data removed]",
            "text/plain": [
              "<IPython.core.display.Image object>"
            ]
          },
          "metadata": {}
        }
      ]
    },
    {
      "cell_type": "code",
      "source": [
        "result_main = graph_main.invoke({\"topic\": [\"What is Attention in human cognition\"]})\n",
        "display(Markdown(result_main[\"discussion\"][0]))"
      ],
      "metadata": {
        "id": "tSjsQQmy2obu"
      },
      "execution_count": null,
      "outputs": []
    }
  ]
}